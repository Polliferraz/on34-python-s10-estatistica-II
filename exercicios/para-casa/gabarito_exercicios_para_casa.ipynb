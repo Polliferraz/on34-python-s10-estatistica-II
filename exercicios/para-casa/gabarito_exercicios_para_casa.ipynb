{
 "cells": [
  {
   "cell_type": "markdown",
   "metadata": {},
   "source": [
    "### Exercício 1: \n",
    "Um nutricionista quer testar se a ingestão diária média de calorias de um grupo de 30 pessoas é diferente de 2000 calorias. Os dados das calorias ingeridas são fornecidos abaixo. Realize o teste de hipóteses usando um nível de significância de 0,05.\n",
    "\n",
    "Dados: [1900, 2100, 2050, 1980, 1950, 2100, 2000, 2150, 2200, 1850, 1990, 1950, 2050, 2080, 2100, 1900, 1950, 2050, 2150, 2000, 2200, 1900, 2100, 2000, 2150, 1850, 1990, 1950, 2050, 2080]"
   ]
  },
  {
   "cell_type": "code",
   "execution_count": 1,
   "metadata": {},
   "outputs": [
    {
     "name": "stdout",
     "output_type": "stream",
     "text": [
      "Não rejeitamos a hipótese nula. Não há evidências suficientes para afirmar que a média de calorias é diferente de 2000.\n",
      "Valor p: 0.16039\n",
      "Nível de significância: 0.05\n"
     ]
    }
   ],
   "source": [
    "from scipy.stats import ttest_1samp\n",
    "\n",
    "# Dados de ingestão de calorias\n",
    "calorias = [1900, 2100, 2050, 1980, 1950, 2100, 2000, 2150, 2200, 1850, 1990, 1950, 2050, 2080, 2100,\n",
    "            1900, 1950, 2050, 2150, 2000, 2200, 1900, 2100, 2000, 2150, 1850, 1990, 1950, 2050, 2080]\n",
    "\n",
    "# Média de referência (hipótese nula)\n",
    "media_referencia = 2000\n",
    "\n",
    "# Teste t de uma amostra\n",
    "# H0: A média de calorias é igual a 2000\n",
    "# H1: A média de calorias é diferente de 2000\n",
    "t_estatistica, valor_p = ttest_1samp(calorias, media_referencia)\n",
    "\n",
    "# Nível de confiança\n",
    "confianca = 0.95\n",
    "\n",
    "# Nível de significância (1 - confiança)\n",
    "significancia = 1 - confianca\n",
    "\n",
    "# Conclusão\n",
    "if valor_p < significancia:\n",
    "    print(\"Rejeitamos a hipótese nula. A média de calorias é diferente de 2000.\")\n",
    "else:\n",
    "    print(\"Não rejeitamos a hipótese nula. Não há evidências suficientes para afirmar que a média de calorias é diferente de 2000.\")\n",
    "\n",
    "# Exibir o valor p\n",
    "print(f\"Valor p: {valor_p:.5f}\")\n",
    "\n",
    "# Exibir o nível de significância\n",
    "print(f\"Nível de significância: {significancia:.2f}\")\n"
   ]
  },
  {
   "cell_type": "markdown",
   "metadata": {},
   "source": [
    "### Exercício 2:\n",
    "\n",
    "Um pesquisador deseja verificar se há uma diferença significativa entre as notas de alunos de duas turmas diferentes após um novo método de ensino. As notas das duas turmas são:\n",
    "\n",
    "Turma A: [85, 78, 90, 88, 76, 95, 89, 84]\n",
    "Turma B: [82, 75, 85, 80, 79, 88, 83, 77]\n",
    "\n",
    "Realize o teste de hipóteses para comparar as médias das duas turmas usando um nível de significância de 0,05."
   ]
  },
  {
   "cell_type": "code",
   "execution_count": 2,
   "metadata": {},
   "outputs": [
    {
     "name": "stdout",
     "output_type": "stream",
     "text": [
      "Não rejeitamos a hipótese nula. Não há evidências suficientes para afirmar que há uma diferença significativa entre as médias das duas turmas.\n",
      "Valor p: 0.11635\n",
      "Nível de significância: 0.05\n"
     ]
    }
   ],
   "source": [
    "from scipy.stats import ttest_ind\n",
    "\n",
    "# Notas das turmas\n",
    "turma_a = [85, 78, 90, 88, 76, 95, 89, 84]\n",
    "turma_b = [82, 75, 85, 80, 79, 88, 83, 77]\n",
    "\n",
    "# Teste t para duas amostras independentes\n",
    "# H0: As médias das duas turmas são iguais\n",
    "# H1: As médias das duas turmas são diferentes\n",
    "t_estatistica, valor_p = ttest_ind(turma_a, turma_b)\n",
    "\n",
    "# Nível de confiança\n",
    "confianca = 0.95\n",
    "\n",
    "# Nível de significância (1 - confiança)\n",
    "significancia = 1 - confianca\n",
    "\n",
    "# Conclusão\n",
    "if valor_p < significancia:\n",
    "    print(\"Rejeitamos a hipótese nula. Há uma diferença significativa entre as médias das duas turmas.\")\n",
    "else:\n",
    "    print(\"Não rejeitamos a hipótese nula. Não há evidências suficientes para afirmar que há uma diferença significativa entre as médias das duas turmas.\")\n",
    "\n",
    "# Exibir o valor p\n",
    "print(f\"Valor p: {valor_p:.5f}\")\n",
    "\n",
    "# Exibir o nível de significância\n",
    "print(f\"Nível de significância: {significancia:.2f}\")\n"
   ]
  },
  {
   "cell_type": "markdown",
   "metadata": {},
   "source": [
    "### Exercício 3:\n",
    "\n",
    "Uma empresa testou a eficácia de um novo software em dois períodos de tempo. Os tempos (em minutos) para concluir uma tarefa antes e depois do uso do software são registrados abaixo. Determine se houve uma melhoria significativa no tempo de conclusão da tarefa.\n",
    "\n",
    "Antes: [30, 28, 35, 33, 40, 29, 32, 36]\n",
    "Depois: [25, 22, 30, 28, 35, 27, 30, 31]\n"
   ]
  },
  {
   "cell_type": "code",
   "execution_count": 3,
   "metadata": {},
   "outputs": [
    {
     "name": "stdout",
     "output_type": "stream",
     "text": [
      "Rejeitamos a hipótese nula. Houve uma melhoria significativa no tempo de conclusão.\n",
      "Valor p: 0.00008\n",
      "Nível de significância: 0.05\n"
     ]
    }
   ],
   "source": [
    "from scipy.stats import ttest_rel\n",
    "\n",
    "# Tempos antes e depois do uso do software\n",
    "antes = [30, 28, 35, 33, 40, 29, 32, 36]\n",
    "depois = [25, 22, 30, 28, 35, 27, 30, 31]\n",
    "\n",
    "# Teste t para amostras pareadas\n",
    "# H0: Não há diferença significativa entre os tempos antes e depois\n",
    "# H1: Há uma diferença significativa entre os tempos antes e depois\n",
    "t_estatistica, valor_p = ttest_rel(antes, depois)\n",
    "\n",
    "# Nível de confiança\n",
    "confianca = 0.95\n",
    "\n",
    "# Nível de significância (1 - confiança)\n",
    "significancia = 1 - confianca\n",
    "\n",
    "# Conclusão\n",
    "if valor_p < significancia:\n",
    "    print(\"Rejeitamos a hipótese nula. Houve uma melhoria significativa no tempo de conclusão.\")\n",
    "else:\n",
    "    print(\"Não rejeitamos a hipótese nula. Não há evidências suficientes para afirmar que houve uma melhoria significativa.\")\n",
    "\n",
    "# Exibir o valor p\n",
    "print(f\"Valor p: {valor_p:.5f}\")\n",
    "\n",
    "# Exibir o nível de significância\n",
    "print(f\"Nível de significância: {significancia:.2f}\")\n"
   ]
  },
  {
   "cell_type": "markdown",
   "metadata": {},
   "source": [
    "### Exercício 4:\n",
    "\n",
    "Uma pesquisa foi realizada para verificar a preferência de 100 pessoas por dois tipos de bebidas, A e B, em duas cidades diferentes, X e Y. A tabela de contingência a seguir mostra os resultados:\n",
    "\n",
    "Cidade X\tCidade Y\n",
    "Bebida A\t30\t40\n",
    "Bebida B\t20\t10\n",
    "\n",
    "Verifique se há uma relação significativa entre a cidade e a preferência pela bebida."
   ]
  },
  {
   "cell_type": "code",
   "execution_count": 4,
   "metadata": {},
   "outputs": [
    {
     "name": "stdout",
     "output_type": "stream",
     "text": [
      "Rejeitamos a hipótese nula. Existe uma relação significativa entre a cidade e a preferência pela bebida.\n",
      "Valor p: 0.04953\n",
      "Nível de significância: 0.05\n"
     ]
    }
   ],
   "source": [
    "from scipy.stats import chi2_contingency\n",
    "\n",
    "# Tabela de contingência (cidade x preferência pela bebida)\n",
    "dados = [[30, 40],\n",
    "         [20, 10]]\n",
    "\n",
    "# Teste qui-quadrado\n",
    "# H0: Não há relação significativa entre a cidade e a preferência pela bebida\n",
    "# H1: Há uma relação significativa entre a cidade e a preferência pela bebida\n",
    "chi2_statistica, valor_p, dof, expected = chi2_contingency(dados)\n",
    "\n",
    "# Nível de confiança\n",
    "confianca = 0.95\n",
    "\n",
    "# Nível de significância (1 - confiança)\n",
    "significancia = 1 - confianca\n",
    "\n",
    "# Conclusão\n",
    "if valor_p < significancia:\n",
    "    print(\"Rejeitamos a hipótese nula. Existe uma relação significativa entre a cidade e a preferência pela bebida.\")\n",
    "else:\n",
    "    print(\"Não rejeitamos a hipótese nula. Não há evidências suficientes para afirmar que existe uma relação significativa entre a cidade e a preferência pela bebida.\")\n",
    "\n",
    "# Exibir o valor p\n",
    "print(f\"Valor p: {valor_p:.5f}\")\n",
    "\n",
    "# Exibir o nível de significância\n",
    "print(f\"Nível de significância: {significancia:.2f}\")\n"
   ]
  },
  {
   "cell_type": "markdown",
   "metadata": {},
   "source": [
    "### Exercício 5:\n",
    "\n",
    "Um pesquisador deseja testar se três diferentes tipos de fertilizantes têm um efeito significativo no crescimento de plantas. Os crescimentos das plantas (em cm) para cada fertilizante são dados abaixo:\n",
    "\n",
    "Fertilizante A: [20, 22, 19, 21, 20]\n",
    "Fertilizante B: [18, 20, 17, 19, 18]\n",
    "Fertilizante C: [25, 27, 26, 28, 26]\n",
    "Realize uma ANOVA de uma via para verificar se há uma diferença significativa entre os grupos.\n"
   ]
  },
  {
   "cell_type": "code",
   "execution_count": 5,
   "metadata": {},
   "outputs": [
    {
     "name": "stdout",
     "output_type": "stream",
     "text": [
      "Rejeitamos a hipótese nula. Pelo menos uma das médias dos crescimentos das plantas é diferente.\n",
      "Valor p: 0.00000\n",
      "Nível de significância: 0.05\n"
     ]
    }
   ],
   "source": [
    "from scipy.stats import f_oneway\n",
    "\n",
    "# Crescimento das plantas para cada fertilizante\n",
    "fertilizante_a = [20, 22, 19, 21, 20]\n",
    "fertilizante_b = [18, 20, 17, 19, 18]\n",
    "fertilizante_c = [25, 27, 26, 28, 26]\n",
    "\n",
    "# ANOVA de uma via\n",
    "# H0: As médias dos crescimentos das plantas são iguais para todos os fertilizantes\n",
    "# H1: Pelo menos uma das médias dos crescimentos das plantas é diferente\n",
    "f_estatistica, valor_p = f_oneway(fertilizante_a, fertilizante_b, fertilizante_c)\n",
    "\n",
    "# Nível de confiança\n",
    "confianca = 0.95\n",
    "\n",
    "# Nível de significância (1 - confiança)\n",
    "significancia = 1 - confianca\n",
    "\n",
    "# Conclusão\n",
    "if valor_p < significancia:\n",
    "    print(\"Rejeitamos a hipótese nula. Pelo menos uma das médias dos crescimentos das plantas é diferente.\")\n",
    "else:\n",
    "    print(\"Não rejeitamos a hipótese nula. Não há evidências suficientes para afirmar que as médias dos crescimentos das plantas são diferentes.\")\n",
    "\n",
    "# Exibir o valor p\n",
    "print(f\"Valor p: {valor_p:.5f}\")\n",
    "\n",
    "# Exibir o nível de significância\n",
    "print(f\"Nível de significância: {significancia:.2f}\")\n"
   ]
  },
  {
   "cell_type": "markdown",
   "metadata": {},
   "source": [
    "# Extras\n"
   ]
  },
  {
   "cell_type": "markdown",
   "metadata": {},
   "source": [
    "### Exercício 1: \n",
    "Um estudo está sendo realizado para comparar o efeito de três métodos diferentes de estudo na performance dos alunos em um exame. As pontuações dos alunos são registradas para cada método:\n",
    "\n",
    "Método A: [85, 87, 90, 86, 88]\n",
    "Método B: [80, 82, 78, 81, 79]\n",
    "Método C: [92, 91, 93, 89, 94]\n",
    "Use ANOVA de uma via para determinar se existe uma diferença significativa nas pontuações dos alunos entre os três métodos."
   ]
  },
  {
   "cell_type": "code",
   "execution_count": 6,
   "metadata": {},
   "outputs": [
    {
     "name": "stdout",
     "output_type": "stream",
     "text": [
      "Rejeitamos a hipótese nula. Existe uma diferença significativa entre os métodos de estudo.\n",
      "Valor p: 0.00000\n",
      "Nível de significância: 0.05\n"
     ]
    }
   ],
   "source": [
    "from scipy.stats import f_oneway\n",
    "\n",
    "# Pontuações dos alunos para cada método de estudo\n",
    "metodo_a = [85, 87, 90, 86, 88]\n",
    "metodo_b = [80, 82, 78, 81, 79]\n",
    "metodo_c = [92, 91, 93, 89, 94]\n",
    "\n",
    "# ANOVA de uma via\n",
    "# H0: As médias das pontuações dos alunos são iguais para todos os métodos de estudo\n",
    "# H1: Pelo menos uma das médias das pontuações dos alunos é diferente\n",
    "f_estatistica, valor_p = f_oneway(metodo_a, metodo_b, metodo_c)\n",
    "\n",
    "# Nível de confiança\n",
    "confianca = 0.95\n",
    "\n",
    "# Nível de significância (1 - confiança)\n",
    "significancia = 1 - confianca\n",
    "\n",
    "# Conclusão\n",
    "if valor_p < significancia:\n",
    "    print(\"Rejeitamos a hipótese nula. Existe uma diferença significativa entre os métodos de estudo.\")\n",
    "else:\n",
    "    print(\"Não rejeitamos a hipótese nula. Não há evidências suficientes para afirmar que há uma diferença significativa entre os métodos de estudo.\")\n",
    "\n",
    "# Exibir o valor p\n",
    "print(f\"Valor p: {valor_p:.5f}\")\n",
    "\n",
    "# Exibir o nível de significância\n",
    "print(f\"Nível de significância: {significancia:.2f}\")\n"
   ]
  },
  {
   "cell_type": "markdown",
   "metadata": {},
   "source": [
    "### Exercício 2: \n",
    "\n",
    "Uma empresa deseja realizar uma pesquisa de satisfação com seus clientes. A população de clientes é dividida em três categorias: Regular, Premium e VIP. A empresa quer garantir que cada categoria seja representada proporcionalmente na amostra. A população total é de 10.000 clientes, sendo 5.000 regulares, 3.000 premium, e 2.000 VIP. Se a amostra total deve ser de 500 clientes, quantos clientes de cada categoria devem ser incluídos na amostra?"
   ]
  },
  {
   "cell_type": "code",
   "execution_count": 7,
   "metadata": {},
   "outputs": [
    {
     "name": "stdout",
     "output_type": "stream",
     "text": [
      "Clientes regulares na amostra: 250\n",
      "Clientes premium na amostra: 150\n",
      "Clientes VIP na amostra: 100\n"
     ]
    }
   ],
   "source": [
    "# Definição dos tamanhos da população por categoria\n",
    "populacao_total = 10000  # Tamanho total da população\n",
    "regular = 5000          # Número de clientes regulares\n",
    "premium = 3000          # Número de clientes premium\n",
    "vip = 2000              # Número de clientes VIP\n",
    "\n",
    "# Tamanho da amostra desejada\n",
    "amostra_total = 500  # Número total de clientes a serem incluídos na amostra\n",
    "\n",
    "# Cálculo da amostra estratificada\n",
    "# A proporção de cada estrato na amostra é baseada na proporção correspondente na população total\n",
    "amostra_regular = (regular / populacao_total) * amostra_total\n",
    "amostra_premium = (premium / populacao_total) * amostra_total\n",
    "amostra_vip = (vip / populacao_total) * amostra_total\n",
    "\n",
    "# Exibição dos resultados arredondados para inteiros\n",
    "print(f\"Clientes regulares na amostra: {int(amostra_regular)}\")\n",
    "print(f\"Clientes premium na amostra: {int(amostra_premium)}\")\n",
    "print(f\"Clientes VIP na amostra: {int(amostra_vip)}\")\n"
   ]
  },
  {
   "cell_type": "markdown",
   "metadata": {},
   "source": [
    "### Exercício 3: \n",
    "\n",
    "Uma empresa registrou o tempo (em horas) que seus funcionários gastam em atividades não relacionadas ao trabalho durante uma semana. Os tempos registrados foram: [1.5, 2.0, 1.0, 2.5, 3.0, 2.0, 1.5, 2.5, 3.5, 4.0]. Calcule o desvio padrão desses tempos."
   ]
  },
  {
   "cell_type": "code",
   "execution_count": 8,
   "metadata": {},
   "outputs": [
    {
     "name": "stdout",
     "output_type": "stream",
     "text": [
      "Tempos: [1.5, 2.0, 1.0, 2.5, 3.0, 2.0, 1.5, 2.5, 3.5, 4.0]\n",
      "Média: 2.35\n",
      "Desvio Padrão: 0.94\n"
     ]
    }
   ],
   "source": [
    "# Lista dos tempos em horas\n",
    "tempos = [1.5, 2.0, 1.0, 2.5, 3.0, 2.0, 1.5, 2.5, 3.5, 4.0]\n",
    "\n",
    "# Cálculo da média dos tempos\n",
    "# A média é a soma de todos os valores dividida pelo número total de elementos\n",
    "media = sum(tempos) / len(tempos)\n",
    "\n",
    "# Cálculo da variância (s²)\n",
    "# A variância é a média dos quadrados das diferenças entre cada valor e a média\n",
    "# Primeiro, calculamos as diferenças ao quadrado e somamos\n",
    "media_quadrados = sum((x - media) ** 2 for x in tempos)\n",
    "\n",
    "# A variância é essa soma dividida pelo número de elementos menos 1 (n-1)\n",
    "# Isso é conhecido como a variância amostral\n",
    "variancia = media_quadrados / (len(tempos) - 1)\n",
    "\n",
    "# Cálculo do desvio padrão\n",
    "# O desvio padrão é a raiz quadrada da variância\n",
    "desvio_padrao = variancia ** 0.5  # Raiz quadrada da variância\n",
    "\n",
    "# Exibição dos resultados\n",
    "print(f\"Tempos: {tempos}\")\n",
    "print(f\"Média: {media:.2f}\")\n",
    "print(f\"Desvio Padrão: {desvio_padrao:.2f}\")"
   ]
  },
  {
   "cell_type": "code",
   "execution_count": 9,
   "metadata": {},
   "outputs": [
    {
     "name": "stdout",
     "output_type": "stream",
     "text": [
      "Tempos: [1.5, 2.0, 1.0, 2.5, 3.0, 2.0, 1.5, 2.5, 3.5, 4.0]\n",
      "Média: 2.35\n",
      "Desvio Padrão: 0.94\n"
     ]
    }
   ],
   "source": [
    "import numpy as np\n",
    "\n",
    "# Lista dos tempos em horas\n",
    "tempos = [1.5, 2.0, 1.0, 2.5, 3.0, 2.0, 1.5, 2.5, 3.5, 4.0]\n",
    "\n",
    "# Cálculo da média usando numpy\n",
    "media = np.mean(tempos)\n",
    "\n",
    "# Cálculo do desvio padrão usando numpy\n",
    "# ddof=1 é usado para calcular o desvio padrão amostral\n",
    "desvio_padrao = np.std(tempos, ddof=1)\n",
    "\n",
    "# Exibição dos resultados\n",
    "print(f\"Tempos: {tempos}\")\n",
    "print(f\"Média: {media:.2f}\")\n",
    "print(f\"Desvio Padrão: {desvio_padrao:.2f}\")\n"
   ]
  }
 ],
 "metadata": {
  "kernelspec": {
   "display_name": "Python 3",
   "language": "python",
   "name": "python3"
  },
  "language_info": {
   "codemirror_mode": {
    "name": "ipython",
    "version": 3
   },
   "file_extension": ".py",
   "mimetype": "text/x-python",
   "name": "python",
   "nbconvert_exporter": "python",
   "pygments_lexer": "ipython3",
   "version": "3.11.4"
  }
 },
 "nbformat": 4,
 "nbformat_minor": 2
}
